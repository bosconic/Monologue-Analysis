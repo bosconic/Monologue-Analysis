{
  "cells": [
    {
      "cell_type": "markdown",
      "metadata": {
        "id": "PmdSF02SrAGz"
      },
      "source": [
        "Name: Nicholas Bosco  \n",
        "---\n",
        "Start Date: 2022-12-06\n",
        "---\n",
        "End Date: 2022-12-15\n",
        "---\n",
        "\n",
        "\n",
        "  "
      ]
    },
    {
      "attachments": {},
      "cell_type": "markdown",
      "metadata": {
        "id": "azhRrkWP_hmb"
      },
      "source": [
        "# Monologue Sentiment Analysis\n",
        "\n",
        "# Introduction\n",
        "I have a bad habit of collecting books that I hope to read but end up not reading them. The books end up collecting dust in my room and this causes my family to keep reminding me to move some books downstairs...As I was cleaning my room, re-organizing these books I had realized that I had purchased this book called: *The Actor's Book of Classical Monologues collected and edited by Stefan Rudnicki*. As I picked up the book again I was skinning through the pages remembering why the book was in my collection and then I realized that the book was an anthology of Monologues recommended by Stefan Rudnicki for up and coming actors or students in the dramatic arts. Did I think I was going to be one of these aspiring actors to use one of the monologues in an audition? The answer is no, however I was intrigued by how the book was divvied up among the different time periods/time period and genere of the monologues (as the book contains monologues dating back from the Greek Dramas all the way to the eighteenth century). Within each time period/ time period genre the monologues were divided by the heading: \"Monologues for Men\" or \"Monologues for Women\"(Rudnicki, 2009). The reason for the division of monologues by gender identity was because of the gender identity of the character who was speaking the monologue within the respective play. I should mention that the collector and editor of the anthology, Stefan Rudnicki did not intend for specific monologues to be solely portrayed by men or women. But I was thinking to see by looking at the words of the monologues only maybe I can investigate if this division of gender identity for monologues could potentially hold up within the acting world.\n",
        "\n",
        "Connecting this to python and the world of programming languages, I had read about sentiment analysis on wikipedia (https://en.wikipedia.org/wiki/Sentiment_analysis). After reading the page, I had lots of questions, and I did not think I was able to apply sentiment analysis as I thought it was too difficult for me to make the leap from learning how to code to applying sentiment analysis through monologues. But I was wrong, I had discussed this idea with my professor Dr.Maher Elshakankiri, and he had provided me with Deitel's Chapter 12: Natural Language Processing (NLP) from his book: *Intro to python for computer science and data science: Learning to program with AI, Big Data and the cloud*. Within this project I will analyze 6 monologues, from three different plays to potentially draw on some insights behind the emotions of each of the monologue and how it relates to the speaker/actor. Potentially there can be a more broad claim to make to see how the writers of the monologues had percieved the specific parts of the characters to have a certain affect on the audience.\n",
        "\n",
        "## Sources\n",
        "The Code is thanks to the examples from Deitel's Chapter 12: Natural Language Processing (NLP) titled *Intro to python for computer science and data science: Learning to program with AI, Big Data and the cloud* and Dr. Elshakankiri [2], and the documentation for mathplotlib [4][6] and pandas[5].\n",
        "\n",
        "The Execution will be done on googlecolab, using python programming language, and the googlecolab notebook (.ipyb)\n",
        "\n",
        "The specific plays were from: *The actors book of Classical Monologues* Collected and introduced by Stefan Rudnicki\n",
        "\n",
        "\n",
        "*   Prometheus Bound by Robert Lowell, *Derived from Aeschylus*\n",
        "    * Prometheus' monologue (Rudnicki, 2009, p. 55-57)\n",
        "    * Io's monologue (Rudnicki, 2009, p. 63-67)\n",
        "*   Romeo and Juliet by William Shakespeare\n",
        "    * Romeo's monologue *Act III, Scene 3* (Rudnicki, 2009, p. 132)\n",
        "    * Juliet's monologue *Act III, Scene 2* (Rudnicki, 2009, p. 149-150)\n",
        "*   Twelfth Night by William Shakespeare\n",
        "    *  Sebastian's monologue *Act IV, Scene 3* (Rudnicki, 2009, p. 135-136)\n",
        "    *  Viola's monologue *Act II, Scene 4* (Rudnicki, 2009, p.151-152)\n",
        "\n",
        "\n",
        "I had decided to type out each of the individual text files that contain the monologues by the specific characters. Within each text file I had tried to introduce the source of where I had encountered the desired monologue to apply the sentiment analysis. I feel the inclusion of the soruce within each text file may affect the sentiment scores a bit but that was a trade-off I was willing to take."
      ]
    },
    {
      "cell_type": "markdown",
      "metadata": {
        "id": "Wsgk5LhW0OFo"
      },
      "source": [
        "# Analysis 1\n",
        "This section is concerned with the monologues of Romeo and Juliet. The reason I had decided to use this first play was because, it was the first play I was first introduced to when learning about the plays of William Shakespeare. The play is also very accessible, and known globally by the two main actors, Romeo (who is typically one of the male lead roles in the play) and the other role Juliet (who is typically one of the female lead roles in the play) so when I had found the monologues from the characters within Stefan Rudnicki's book[5], I just assumed it would provide a start towards me finding the answer if monologues can be assessed by sentiment to be played by particular actors. \n",
        "\n",
        "## For Romeo"
      ]
    },
    {
      "cell_type": "code",
      "execution_count": null,
      "metadata": {
        "id": "5nYW9zYGSuXY"
      },
      "outputs": [],
      "source": [
        "from pathlib import Path"
      ]
    },
    {
      "cell_type": "code",
      "execution_count": null,
      "metadata": {
        "id": "Y2o-lX2GSyjE"
      },
      "outputs": [],
      "source": [
        "from textblob import TextBlob"
      ]
    },
    {
      "cell_type": "code",
      "execution_count": null,
      "metadata": {
        "colab": {
          "base_uri": "https://localhost:8080/"
        },
        "id": "ma0Q8qioS9c-",
        "outputId": "11627acd-a4c8-4ff4-ecb9-d6e93cb99693"
      },
      "outputs": [
        {
          "name": "stderr",
          "output_type": "stream",
          "text": [
            "[nltk_data] Downloading package punkt to /root/nltk_data...\n",
            "[nltk_data]   Package punkt is already up-to-date!\n"
          ]
        },
        {
          "name": "stdout",
          "output_type": "stream",
          "text": [
            "Mounted at /drive\n"
          ]
        }
      ],
      "source": [
        "# importing the necessary libraries as well as the textfile of choice\n",
        "from pathlib import Path\n",
        "from textblob import TextBlob\n",
        "import nltk\n",
        "nltk.download('punkt')  # This is the specific package within the NLTK library we want\n",
        "\n",
        "from google.colab import drive\n",
        "drive.mount('/drive', force_remount=True)\n",
        "\n",
        "textromeo = TextBlob(Path('/drive/MyDrive/MonologueAnalysis/RomeoMonologue.txt').read_text())\n"
      ]
    },
    {
      "cell_type": "code",
      "execution_count": null,
      "metadata": {
        "colab": {
          "base_uri": "https://localhost:8080/"
        },
        "id": "gMwGrEEpGK1I",
        "outputId": "e9666930-11c1-46df-9cff-63728825a02e"
      },
      "outputs": [
        {
          "data": {
            "text/plain": [
              "Sentiment(polarity=0.1474912067099567, subjectivity=0.5383333333333333)"
            ]
          },
          "execution_count": 34,
          "metadata": {},
          "output_type": "execute_result"
        }
      ],
      "source": [
        "romeo_first_pass = textromeo.sentiment #gathers the overall sentiment score of monologue\n",
        "romeo_first_pass"
      ]
    },
    {
      "attachments": {},
      "cell_type": "markdown",
      "metadata": {
        "id": "VV3T16LAPp-L"
      },
      "source": [
        "Sentiment polarity just refers to the texts overall \"emotion\" rating given when passed through the sentiment analysis package. The comparisons are made with the desired file with the NLTK punkt package [^1][^2]."
      ]
    },
    {
      "cell_type": "code",
      "execution_count": null,
      "metadata": {
        "colab": {
          "base_uri": "https://localhost:8080/"
        },
        "id": "E9UkiV6L1p0L",
        "outputId": "c269664b-61b4-4be3-f94b-0f2528fc4d5d"
      },
      "outputs": [
        {
          "data": {
            "text/plain": [
              "0.1474912067099567"
            ]
          },
          "execution_count": 35,
          "metadata": {},
          "output_type": "execute_result"
        }
      ],
      "source": [
        "romeo_polarity = textromeo.sentiment.polarity # ensures that we get the sentiment polarity\n",
        "romeo_polarity"
      ]
    },
    {
      "cell_type": "code",
      "execution_count": null,
      "metadata": {
        "colab": {
          "base_uri": "https://localhost:8080/"
        },
        "id": "quD-cVjNNfEW",
        "outputId": "cc739e35-0cf9-49e8-846f-a4536dabb24e"
      },
      "outputs": [
        {
          "data": {
            "text/plain": [
              "0.5383333333333333"
            ]
          },
          "execution_count": 38,
          "metadata": {},
          "output_type": "execute_result"
        }
      ],
      "source": [
        "romeo_subjectivity = textromeo.sentiment.subjectivity # ensures that we get the sentiment subjectivity\n",
        "romeo_subjectivity"
      ]
    },
    {
      "cell_type": "code",
      "execution_count": null,
      "metadata": {
        "colab": {
          "base_uri": "https://localhost:8080/"
        },
        "id": "ZJ4QpVZBrncg",
        "outputId": "583d0cf8-3e62-40f1-9272-7602176b8041"
      },
      "outputs": [
        {
          "name": "stderr",
          "output_type": "stream",
          "text": [
            "[nltk_data] Downloading package movie_reviews to /root/nltk_data...\n",
            "[nltk_data]   Unzipping corpora/movie_reviews.zip.\n"
          ]
        }
      ],
      "source": [
        "# Using a different Sentiment Analysis Package, I believe its movie reviews\n",
        "from textblob import TextBlob\n",
        "from textblob.sentiments import NaiveBayesAnalyzer\n",
        "import nltk\n",
        "nltk.download('movie_reviews')\n",
        "textromeo = (Path('/drive/MyDrive/MonologueAnalysis/RomeoMonologue.txt').read_text())\n",
        "x = TextBlob(textromeo, analyzer=NaiveBayesAnalyzer())\n",
        "\n",
        "# combined positive and negative sentiment, to ensure I am on the right track\n",
        "romeo_result = x.sentiment\n",
        "romeo_result\n",
        "\n",
        "# outputs the positive float value needed for visualization part\n",
        "romeo_p_pos = x.sentiment.p_pos\n",
        "# print(romeo_p_pos)\n",
        "\n",
        "# outputs the negative float value needed for visualization part\n",
        "romeo_p_neg = x.sentiment.p_neg\n",
        "# print(romeo_p_neg)"
      ]
    },
    {
      "cell_type": "markdown",
      "metadata": {
        "id": "tWVbVhavTCqo"
      },
      "source": [
        "Here I used another type of sentiment analysis using the Niave Bayes Analyzer, this analysis was first introduced to me when reading the Deitel Chapter on NLP [2].\n",
        "\n",
        "For the follwing five monologues they follow the same process, as most of the code within the project was based off the chapter Deitel as mentioned in the introduction [2]."
      ]
    },
    {
      "cell_type": "markdown",
      "metadata": {
        "id": "MpDWFV7dNHxv"
      },
      "source": [
        "## For Juliet\n",
        "\n"
      ]
    },
    {
      "cell_type": "code",
      "execution_count": null,
      "metadata": {
        "colab": {
          "base_uri": "https://localhost:8080/"
        },
        "id": "dFBiIH1lNWwH",
        "outputId": "d35782ad-00a9-428b-85fc-3271e274a875"
      },
      "outputs": [
        {
          "name": "stdout",
          "output_type": "stream",
          "text": [
            "Mounted at /drive\n"
          ]
        }
      ],
      "source": [
        "from google.colab import drive\n",
        "drive.mount('/drive', force_remount=True)\n",
        "\n",
        "\n",
        "textjuliet = TextBlob(Path('/drive/MyDrive/MonologueAnalysis/JulietMonologue.txt').read_text())"
      ]
    },
    {
      "cell_type": "code",
      "execution_count": null,
      "metadata": {
        "colab": {
          "base_uri": "https://localhost:8080/"
        },
        "id": "bZr3GuobNv-F",
        "outputId": "b4972d54-e51c-495c-d02a-0a0d52de788a"
      },
      "outputs": [
        {
          "data": {
            "text/plain": [
              "Sentiment(polarity=0.23556235431235437, subjectivity=0.5273726273726274)"
            ]
          },
          "execution_count": 43,
          "metadata": {},
          "output_type": "execute_result"
        }
      ],
      "source": [
        "juliet_first_pass = textjuliet.sentiment #gathers the overall sentiment score of monologue\n",
        "juliet_first_pass"
      ]
    },
    {
      "cell_type": "code",
      "execution_count": null,
      "metadata": {
        "colab": {
          "base_uri": "https://localhost:8080/"
        },
        "id": "pcusMRMaNv-F",
        "outputId": "9c7b89c4-25d9-4271-849c-56d19e12ab0d"
      },
      "outputs": [
        {
          "data": {
            "text/plain": [
              "0.23556235431235437"
            ]
          },
          "execution_count": 44,
          "metadata": {},
          "output_type": "execute_result"
        }
      ],
      "source": [
        "\n",
        "juliet_polarity = textjuliet.sentiment.polarity # ensures that we get the sentiment polarity\n",
        "juliet_polarity"
      ]
    },
    {
      "cell_type": "code",
      "execution_count": null,
      "metadata": {
        "colab": {
          "base_uri": "https://localhost:8080/"
        },
        "id": "ucQMS52_NkzC",
        "outputId": "7bd48912-0db0-4d79-d59f-00562e0e76cf"
      },
      "outputs": [
        {
          "data": {
            "text/plain": [
              "0.5273726273726274"
            ]
          },
          "execution_count": 45,
          "metadata": {},
          "output_type": "execute_result"
        }
      ],
      "source": [
        "juliet_subjectivity = textjuliet.sentiment.subjectivity # ensures that we get the sentiment subjectivity\n",
        "juliet_subjectivity"
      ]
    },
    {
      "cell_type": "code",
      "execution_count": null,
      "metadata": {
        "colab": {
          "base_uri": "https://localhost:8080/"
        },
        "id": "o-8goH5tsS-v",
        "outputId": "ff8a697d-c721-4748-c39a-a78194ef9a22"
      },
      "outputs": [
        {
          "name": "stderr",
          "output_type": "stream",
          "text": [
            "[nltk_data] Downloading package movie_reviews to /root/nltk_data...\n",
            "[nltk_data]   Package movie_reviews is already up-to-date!\n"
          ]
        }
      ],
      "source": [
        "import textblob\n",
        "# Using a different Sentiment Analysis Package, I believe its movie reviews\n",
        "from textblob import TextBlob\n",
        "from textblob.sentiments import NaiveBayesAnalyzer\n",
        "import nltk\n",
        "nltk.download('movie_reviews')\n",
        "textjuliet = Path('/drive/MyDrive/MonologueAnalysis/JulietMonologue.txt').read_text()\n",
        "y = TextBlob(textjuliet, analyzer=NaiveBayesAnalyzer())\n",
        "\n",
        "# repeating the process of first finding the combined negative and positive scores then splitting them accordingly\n",
        "juliet_result = y.sentiment\n",
        "juliet_result\n",
        "\n",
        "# outputs the positive float value needed for visualization part\n",
        "juliet_p_pos = y.sentiment.p_pos\n",
        "# print(juliet_p_pos)\n",
        "\n",
        "# outputs the negative float value needed for visualization part\n",
        "juliet_p_neg = y.sentiment.p_neg\n",
        "# print(juliet_p_neg)"
      ]
    },
    {
      "cell_type": "markdown",
      "metadata": {
        "id": "pKBM1FBI0dDR"
      },
      "source": [
        "# Analysis 2\n",
        "This section is concerned with the analysis of Sebastian and Viola's monologues within the play Twelfth Night. These two monologues were also found in Stefan Rudnicki's book[5]. The fun part here is that Twelfth night is a comedy about a pair of twins (Sebastian and Viola) who were seperated and Viola has been caught up in a love triangle and throughout a portion of the play Viola disguises herself as Cesario (a male character). I had decided to choose this play as my second group of character monologues to analyze as I wanted consider maybe the sentiment analysis for monologues from comedies may be different than the sentiment analysis for monologues from tragedies. \n",
        "\n",
        "## For Sebastian"
      ]
    },
    {
      "cell_type": "code",
      "execution_count": null,
      "metadata": {
        "colab": {
          "base_uri": "https://localhost:8080/"
        },
        "id": "u4pUsLqA2YFq",
        "outputId": "de97a37c-a5b7-423d-df4e-7ad166512db2"
      },
      "outputs": [
        {
          "name": "stdout",
          "output_type": "stream",
          "text": [
            "Mounted at /drive\n"
          ]
        }
      ],
      "source": [
        "from google.colab import drive\n",
        "drive.mount('/drive', force_remount=True)\n",
        "\n",
        "textsebastian = TextBlob(Path('/drive/MyDrive/MonologueAnalysis/TwelfthNightSebastian.txt').read_text())"
      ]
    },
    {
      "cell_type": "code",
      "execution_count": null,
      "metadata": {
        "colab": {
          "base_uri": "https://localhost:8080/"
        },
        "id": "Cxkq8BoR2SpT",
        "outputId": "d9638a6e-dca8-4822-a3d5-046e085b3824"
      },
      "outputs": [
        {
          "data": {
            "text/plain": [
              "Sentiment(polarity=-0.04166666666666666, subjectivity=0.5972222222222222)"
            ]
          },
          "execution_count": 49,
          "metadata": {},
          "output_type": "execute_result"
        }
      ],
      "source": [
        "sebastian_first_pass = textsebastian.sentiment\n",
        "sebastian_first_pass"
      ]
    },
    {
      "cell_type": "code",
      "execution_count": null,
      "metadata": {
        "colab": {
          "base_uri": "https://localhost:8080/"
        },
        "id": "df7yvVlB2ozr",
        "outputId": "c20ceedf-8a3d-4cec-de5e-81de62c9ad9e"
      },
      "outputs": [
        {
          "data": {
            "text/plain": [
              "-0.04166666666666666"
            ]
          },
          "execution_count": 50,
          "metadata": {},
          "output_type": "execute_result"
        }
      ],
      "source": [
        "\n",
        "sebastian_polarity = textsebastian.sentiment.polarity\n",
        "sebastian_polarity\n"
      ]
    },
    {
      "cell_type": "code",
      "execution_count": null,
      "metadata": {
        "colab": {
          "base_uri": "https://localhost:8080/"
        },
        "id": "ZRll1z_oNqca",
        "outputId": "957d1f59-681d-4785-fcd4-79c5385b6859"
      },
      "outputs": [
        {
          "data": {
            "text/plain": [
              "0.5972222222222222"
            ]
          },
          "execution_count": 51,
          "metadata": {},
          "output_type": "execute_result"
        }
      ],
      "source": [
        "sebastian_subjectivity = textsebastian.sentiment.subjectivity\n",
        "sebastian_subjectivity"
      ]
    },
    {
      "cell_type": "code",
      "execution_count": null,
      "metadata": {
        "colab": {
          "base_uri": "https://localhost:8080/"
        },
        "id": "K9BXJfX5s7oN",
        "outputId": "80492a94-ee47-4698-a47f-7d3d6c0edd9c"
      },
      "outputs": [
        {
          "name": "stderr",
          "output_type": "stream",
          "text": [
            "[nltk_data] Downloading package movie_reviews to /root/nltk_data...\n",
            "[nltk_data]   Package movie_reviews is already up-to-date!\n"
          ]
        }
      ],
      "source": [
        "# Using a different Sentiment Analysis Package, I believe its movie reviews\n",
        "from textblob import TextBlob\n",
        "from textblob.sentiments import NaiveBayesAnalyzer\n",
        "import nltk\n",
        "nltk.download('movie_reviews')\n",
        "textsebastian = Path('/drive/MyDrive/MonologueAnalysis/TwelfthNightSebastian.txt').read_text()\n",
        "s = TextBlob(textsebastian, analyzer=NaiveBayesAnalyzer())\n",
        "sebastian_result = s.sentiment\n",
        "sebastian_result\n",
        "\n",
        "# outputs the positive float value needed for visualization part\n",
        "sebastian_p_pos = s.sentiment.p_pos\n",
        "# print(sebastian_p_pos)\n",
        "\n",
        "# outputs the negative float value needed for visualization part\n",
        "sebastian_p_neg = s.sentiment.p_neg\n",
        "# print(sebastian_p_neg)"
      ]
    },
    {
      "cell_type": "markdown",
      "metadata": {
        "id": "ytFDiqVr3goC"
      },
      "source": [
        "## For Viola"
      ]
    },
    {
      "cell_type": "code",
      "execution_count": null,
      "metadata": {
        "colab": {
          "base_uri": "https://localhost:8080/"
        },
        "id": "--sNhg-G3mod",
        "outputId": "c69619ab-6b6d-4181-a42e-ee4fbf8055f3"
      },
      "outputs": [
        {
          "name": "stdout",
          "output_type": "stream",
          "text": [
            "Mounted at /drive\n"
          ]
        }
      ],
      "source": [
        "from google.colab import drive\n",
        "drive.mount('/drive', force_remount=True)\n",
        "\n",
        "textviola = TextBlob(Path('/drive/MyDrive/MonologueAnalysis/TwelfthNightViola.txt').read_text())"
      ]
    },
    {
      "cell_type": "code",
      "execution_count": null,
      "metadata": {
        "colab": {
          "base_uri": "https://localhost:8080/"
        },
        "id": "Q0X-WvNm3uQ8",
        "outputId": "9c0428a5-0565-42b7-a73e-7ca04250fe18"
      },
      "outputs": [
        {
          "data": {
            "text/plain": [
              "Sentiment(polarity=0.2173611111111111, subjectivity=0.4277777777777778)"
            ]
          },
          "execution_count": 54,
          "metadata": {},
          "output_type": "execute_result"
        }
      ],
      "source": [
        "viola_first_pass = textviola.sentiment\n",
        "viola_first_pass"
      ]
    },
    {
      "cell_type": "code",
      "execution_count": null,
      "metadata": {
        "colab": {
          "base_uri": "https://localhost:8080/"
        },
        "id": "YoFxIK-330RE",
        "outputId": "99324567-8568-4f42-d140-4227505704f5"
      },
      "outputs": [
        {
          "data": {
            "text/plain": [
              "0.2173611111111111"
            ]
          },
          "execution_count": 55,
          "metadata": {},
          "output_type": "execute_result"
        }
      ],
      "source": [
        "viola_polarity = textviola.sentiment.polarity\n",
        "viola_polarity\n"
      ]
    },
    {
      "cell_type": "code",
      "execution_count": null,
      "metadata": {
        "colab": {
          "base_uri": "https://localhost:8080/"
        },
        "id": "9_S_vY4jNwWy",
        "outputId": "f02f01bc-a950-4347-d44a-3a2d0d5ae805"
      },
      "outputs": [
        {
          "data": {
            "text/plain": [
              "0.4277777777777778"
            ]
          },
          "execution_count": 56,
          "metadata": {},
          "output_type": "execute_result"
        }
      ],
      "source": [
        "viola_subjectivity = textviola.sentiment.subjectivity\n",
        "viola_subjectivity"
      ]
    },
    {
      "cell_type": "code",
      "execution_count": null,
      "metadata": {
        "colab": {
          "base_uri": "https://localhost:8080/"
        },
        "id": "M_f3eo4Nt_rG",
        "outputId": "718fe0a8-f446-488c-c754-1f5e79229831"
      },
      "outputs": [
        {
          "name": "stderr",
          "output_type": "stream",
          "text": [
            "[nltk_data] Downloading package movie_reviews to /root/nltk_data...\n",
            "[nltk_data]   Package movie_reviews is already up-to-date!\n"
          ]
        }
      ],
      "source": [
        "# Using a different Sentiment Analysis Package, I believe its movie reviews\n",
        "from textblob import TextBlob\n",
        "from textblob.sentiments import NaiveBayesAnalyzer\n",
        "import nltk\n",
        "nltk.download('movie_reviews')\n",
        "textviola = Path('/drive/MyDrive/MonologueAnalysis/TwelfthNightViola.txt').read_text()\n",
        "v = TextBlob(textviola, analyzer=NaiveBayesAnalyzer())\n",
        "viola_result = v.sentiment\n",
        "viola_result\n",
        "\n",
        "# outputs the positive float value needed for visualization part\n",
        "viola_p_pos = v.sentiment.p_pos\n",
        "# print(viola_p_pos)\n",
        "\n",
        "# outputs the negative float value needed for visualization part\n",
        "viola_p_neg = v.sentiment.p_neg\n",
        "# print(viola_p_neg)"
      ]
    },
    {
      "cell_type": "markdown",
      "metadata": {
        "id": "trFMOH944YO6"
      },
      "source": [
        "# Analysis 3\n",
        "This third and final analysis will compare Prometheus' and Io's monologues that are found in the play *Prometheus Bound* by Aeschylus. The two monologues were also found in Stefan Rudnicki's book[5]. Prometheus Bound is considered a Greek tragedy play, and instead of comparing just Shakespeare's works with one another I thought to analyze another two monologues from a different time period as well as different writer/translator. I should also mention that these two monologues had provided the most 'data' so to speak as they both possessed a lot of text for the sentiment analysis to analyze. \n",
        "\n",
        "## For Prometheus"
      ]
    },
    {
      "cell_type": "code",
      "execution_count": null,
      "metadata": {
        "colab": {
          "base_uri": "https://localhost:8080/"
        },
        "id": "PanK8zTR5LsC",
        "outputId": "7dd10a36-a0df-44a0-eb98-d05171f3b6c5"
      },
      "outputs": [
        {
          "name": "stdout",
          "output_type": "stream",
          "text": [
            "Mounted at /drive\n"
          ]
        }
      ],
      "source": [
        "from google.colab import drive\n",
        "drive.mount('/drive', force_remount=True)\n",
        "\n",
        "textprometheus = TextBlob(Path('/drive/MyDrive/MonologueAnalysis/PrometheusBoundPrometheus.txt').read_text())"
      ]
    },
    {
      "cell_type": "code",
      "execution_count": null,
      "metadata": {
        "colab": {
          "base_uri": "https://localhost:8080/"
        },
        "id": "nnDuF5gk5VHL",
        "outputId": "333105e0-5d12-4722-ad0b-5a1ab8d002f8"
      },
      "outputs": [
        {
          "data": {
            "text/plain": [
              "Sentiment(polarity=-0.009686507936507938, subjectivity=0.4719841269841269)"
            ]
          },
          "execution_count": 59,
          "metadata": {},
          "output_type": "execute_result"
        }
      ],
      "source": [
        "prometheus_first_pass = textprometheus.sentiment\n",
        "prometheus_first_pass "
      ]
    },
    {
      "cell_type": "code",
      "execution_count": null,
      "metadata": {
        "colab": {
          "base_uri": "https://localhost:8080/"
        },
        "id": "ZYfacJPm5cfR",
        "outputId": "56178421-d7ad-4adb-af16-fe0e423cc091"
      },
      "outputs": [
        {
          "data": {
            "text/plain": [
              "-0.009686507936507938"
            ]
          },
          "execution_count": 60,
          "metadata": {},
          "output_type": "execute_result"
        }
      ],
      "source": [
        "\n",
        "prometheus_polarity = textprometheus.sentiment.polarity\n",
        "prometheus_polarity\n"
      ]
    },
    {
      "cell_type": "code",
      "execution_count": null,
      "metadata": {
        "colab": {
          "base_uri": "https://localhost:8080/"
        },
        "id": "H2ImEf3GN1ms",
        "outputId": "19faa805-cb69-4d46-cde8-96d0636b7d72"
      },
      "outputs": [
        {
          "data": {
            "text/plain": [
              "0.4719841269841269"
            ]
          },
          "execution_count": 61,
          "metadata": {},
          "output_type": "execute_result"
        }
      ],
      "source": [
        "prometheus_subjectivity = textprometheus.sentiment.subjectivity\n",
        "prometheus_subjectivity"
      ]
    },
    {
      "cell_type": "code",
      "execution_count": null,
      "metadata": {
        "colab": {
          "base_uri": "https://localhost:8080/"
        },
        "id": "6fu0uDEtu_x4",
        "outputId": "1b21eddc-fd6a-44e5-f6a7-e21f0aa4f6a4"
      },
      "outputs": [
        {
          "name": "stderr",
          "output_type": "stream",
          "text": [
            "[nltk_data] Downloading package movie_reviews to /root/nltk_data...\n",
            "[nltk_data]   Package movie_reviews is already up-to-date!\n"
          ]
        }
      ],
      "source": [
        "# Using a different Sentiment Analysis Package, I believe its movie reviews\n",
        "from textblob import TextBlob\n",
        "from textblob.sentiments import NaiveBayesAnalyzer\n",
        "import nltk\n",
        "nltk.download('movie_reviews')\n",
        "textprometheus = Path('/drive/MyDrive/MonologueAnalysis/PrometheusBoundPrometheus.txt').read_text()\n",
        "p = TextBlob(textprometheus, analyzer=NaiveBayesAnalyzer())\n",
        "prometheus_result = p.sentiment\n",
        "prometheus_result\n",
        "\n",
        "# outputs the positive float value needed for visualization part\n",
        "prometheus_p_pos = p.sentiment.p_pos\n",
        "# print(prometheus_p_pos)\n",
        "\n",
        "# outputs the negative float value needed for visualization part\n",
        "prometheus_p_neg = p.sentiment.p_neg\n",
        "# print(prometheus_p_neg)"
      ]
    },
    {
      "cell_type": "markdown",
      "metadata": {
        "id": "OOJhh74N51ye"
      },
      "source": [
        "## For Io"
      ]
    },
    {
      "cell_type": "code",
      "execution_count": null,
      "metadata": {
        "colab": {
          "base_uri": "https://localhost:8080/"
        },
        "id": "93eL0k2E56Me",
        "outputId": "bfd991aa-6464-47b2-b909-bc978db81513"
      },
      "outputs": [
        {
          "name": "stdout",
          "output_type": "stream",
          "text": [
            "Mounted at /drive\n"
          ]
        }
      ],
      "source": [
        "from google.colab import drive\n",
        "drive.mount('/drive', force_remount=True)\n",
        "\n",
        "textio = TextBlob(Path('/drive/MyDrive/MonologueAnalysis/PrometheusBoundIo.txt').read_text())"
      ]
    },
    {
      "cell_type": "code",
      "execution_count": null,
      "metadata": {
        "colab": {
          "base_uri": "https://localhost:8080/"
        },
        "id": "JYhcHiN-6B1x",
        "outputId": "0d91fc2f-bb7e-4fa8-a878-d47f95bce85a"
      },
      "outputs": [
        {
          "data": {
            "text/plain": [
              "Sentiment(polarity=-0.008878912582616295, subjectivity=0.4911740865444569)"
            ]
          },
          "execution_count": 64,
          "metadata": {},
          "output_type": "execute_result"
        }
      ],
      "source": [
        "io_first_pass = textio.sentiment\n",
        "io_first_pass"
      ]
    },
    {
      "cell_type": "code",
      "execution_count": null,
      "metadata": {
        "colab": {
          "base_uri": "https://localhost:8080/"
        },
        "id": "6iQ-Qdor6Xwz",
        "outputId": "241bb91c-08dd-45e1-a61c-6810b9e8862d"
      },
      "outputs": [
        {
          "data": {
            "text/plain": [
              "-0.008878912582616295"
            ]
          },
          "execution_count": 65,
          "metadata": {},
          "output_type": "execute_result"
        }
      ],
      "source": [
        "\n",
        "io_polarity = textio.sentiment.polarity\n",
        "io_polarity"
      ]
    },
    {
      "cell_type": "code",
      "execution_count": null,
      "metadata": {
        "colab": {
          "base_uri": "https://localhost:8080/"
        },
        "id": "l4pVT66wN8NM",
        "outputId": "259beaab-a028-4d4d-b040-9d0860621417"
      },
      "outputs": [
        {
          "data": {
            "text/plain": [
              "0.4911740865444569"
            ]
          },
          "execution_count": 66,
          "metadata": {},
          "output_type": "execute_result"
        }
      ],
      "source": [
        "io_subjectivity = textio.sentiment.subjectivity\n",
        "io_subjectivity"
      ]
    },
    {
      "cell_type": "code",
      "execution_count": null,
      "metadata": {
        "colab": {
          "base_uri": "https://localhost:8080/"
        },
        "id": "ShQDDfrX54nr",
        "outputId": "0cae39b6-b905-4a52-a775-782dccf425c7"
      },
      "outputs": [
        {
          "name": "stderr",
          "output_type": "stream",
          "text": [
            "[nltk_data] Downloading package movie_reviews to /root/nltk_data...\n",
            "[nltk_data]   Package movie_reviews is already up-to-date!\n"
          ]
        }
      ],
      "source": [
        "# Using a different Sentiment Analysis Package, I believe its movie reviews\n",
        "from textblob import TextBlob\n",
        "from textblob.sentiments import NaiveBayesAnalyzer\n",
        "import nltk\n",
        "nltk.download('movie_reviews')\n",
        "textio = Path('/drive/MyDrive/MonologueAnalysis/PrometheusBoundIo.txt').read_text()\n",
        "i = TextBlob(textio, analyzer=NaiveBayesAnalyzer())\n",
        "io_result = i.sentiment\n",
        "io_result\n",
        "\n",
        "# outputs the positive float value needed for visualization part\n",
        "io_p_pos = i.sentiment.p_pos\n",
        "# print(io_p_pos)\n",
        "\n",
        "# outputs the negative float value needed for visualization part\n",
        "io_p_neg = i.sentiment.p_neg\n",
        "#print(io_p_neg)"
      ]
    },
    {
      "cell_type": "markdown",
      "metadata": {
        "id": "Ye9yLWEexWpT"
      },
      "source": [
        "# Discussion\n",
        "Now I had successfully ran the specific code run different parts of the sentiment analysis, the next step involves me collecting the various sentiment analysis method outputs and comparing them to get down to the research question if there was any correlation between character and actor gender.\n",
        "\n",
        "It should be noted as I am new to python and NLP processes a bulk of my choices on the specific NLTK packages used to do the analysis may affect these results. \n",
        "\n",
        "Two of the plays (Romeo and Juliet, and Twelfth Night) were written by William Shakespeare, however modernized to be read by actor/actress and one play was written by Aeschylus (in ancient greek) then translated by Robert Lowell into a more modern english text. These subtle differences and nuances to the chosen texts may change how the results of the sentiment analysis go as it was on the onus of the translater/ writer ensuring the overarching message in the monologue is there but the word choice may be defined differently in the NLTK libraries. This also is a question of context, which for the most part seems that computers of today have a hard time dealing with but none the less do a great job analyzing text.\n",
        "\n",
        "\n",
        "I decided to initiallty generate lists per character for the following four categories:\n",
        "\n",
        "          * Sentiment polarity\n",
        "          * Sentiment subjectivity\n",
        "          * Sentiment polarity positivity score\n",
        "          * Sentiment polarity negativity score"
      ]
    },
    {
      "cell_type": "code",
      "execution_count": null,
      "metadata": {
        "colab": {
          "base_uri": "https://localhost:8080/"
        },
        "id": "rKwPt_HA_blr",
        "outputId": "f9808ace-f6bc-42eb-f6d2-d5527548fbea"
      },
      "outputs": [
        {
          "name": "stdout",
          "output_type": "stream",
          "text": [
            "[0.1474912067099567, 0.5383333333333333, 0.9999999451403385, 5.485967341780334e-08]\n",
            "[0.23556235431235437, 0.5273726273726274, 0.9999999999026011, 9.743007316853551e-11]\n"
          ]
        }
      ],
      "source": [
        "# preliminary Romeo and Juliet results\n",
        "romeo = [romeo_polarity, romeo_subjectivity, romeo_p_pos, romeo_p_neg]\n",
        "print(romeo)\n",
        "\n",
        "juliet = [juliet_polarity, juliet_subjectivity, juliet_p_pos, juliet_p_neg]\n",
        "print(juliet)"
      ]
    },
    {
      "cell_type": "code",
      "execution_count": null,
      "metadata": {
        "colab": {
          "base_uri": "https://localhost:8080/"
        },
        "id": "oDmJb_a1AKcY",
        "outputId": "e2bd0b45-bc59-4b55-a9ce-6e1bfb64d55c"
      },
      "outputs": [
        {
          "name": "stdout",
          "output_type": "stream",
          "text": [
            "[-0.04166666666666666, 0.5972222222222222, 0.9999978957232056, 2.1042768104370015e-06]\n",
            "[0.2173611111111111, 0.4277777777777778, 0.9999995735224334, 4.2647757792955475e-07]\n"
          ]
        }
      ],
      "source": [
        "# preliminary Twelfth Night results\n",
        "sebastian = [sebastian_polarity, sebastian_subjectivity, sebastian_p_pos, sebastian_p_neg]\n",
        "print(sebastian)\n",
        "\n",
        "viola = [viola_polarity, viola_subjectivity, viola_p_pos, viola_p_neg]\n",
        "print(viola)"
      ]
    },
    {
      "cell_type": "code",
      "execution_count": null,
      "metadata": {
        "colab": {
          "base_uri": "https://localhost:8080/"
        },
        "id": "KF2r8N3OMY9U",
        "outputId": "58323d60-e823-4c34-d2eb-8e1d979263e2"
      },
      "outputs": [
        {
          "name": "stdout",
          "output_type": "stream",
          "text": [
            "[-0.009686507936507938, 0.4719841269841269, 0.9999999999996848, 3.5916507787563737e-13]\n",
            "[-0.008878912582616295, 0.4911740865444569, 1.0, 1.5436462518596393e-13]\n"
          ]
        }
      ],
      "source": [
        "# preliminary Prometheus Bound\n",
        "prometheus = [prometheus_polarity, prometheus_subjectivity, prometheus_p_pos, prometheus_p_neg]\n",
        "print(prometheus)\n",
        "\n",
        "io = [io_polarity, io_subjectivity, io_p_pos, io_p_neg]\n",
        "print(io)"
      ]
    },
    {
      "cell_type": "code",
      "execution_count": null,
      "metadata": {
        "colab": {
          "base_uri": "https://localhost:8080/",
          "height": 302
        },
        "id": "J_z3e9NBSc-P",
        "outputId": "f6372137-54a8-4934-ad01-b7eaeeca0ec6"
      },
      "outputs": [
        {
          "data": {
            "text/html": [
              "\n",
              "  <div id=\"df-593a6707-b7d7-4e94-b850-c63d825a6695\">\n",
              "    <div class=\"colab-df-container\">\n",
              "      <div>\n",
              "<style scoped>\n",
              "    .dataframe tbody tr th:only-of-type {\n",
              "        vertical-align: middle;\n",
              "    }\n",
              "\n",
              "    .dataframe tbody tr th {\n",
              "        vertical-align: top;\n",
              "    }\n",
              "\n",
              "    .dataframe thead th {\n",
              "        text-align: right;\n",
              "    }\n",
              "</style>\n",
              "<table border=\"1\" class=\"dataframe\">\n",
              "  <thead>\n",
              "    <tr style=\"text-align: right;\">\n",
              "      <th></th>\n",
              "      <th>character</th>\n",
              "      <th>polarity</th>\n",
              "      <th>subjectivity</th>\n",
              "      <th>positive_sentiment_score</th>\n",
              "      <th>negative_sentiment_score</th>\n",
              "    </tr>\n",
              "  </thead>\n",
              "  <tbody>\n",
              "    <tr>\n",
              "      <th>0</th>\n",
              "      <td>Romeo</td>\n",
              "      <td>0.147491</td>\n",
              "      <td>0.538333</td>\n",
              "      <td>1.000000</td>\n",
              "      <td>5.485967e-08</td>\n",
              "    </tr>\n",
              "    <tr>\n",
              "      <th>1</th>\n",
              "      <td>Juliet</td>\n",
              "      <td>0.235562</td>\n",
              "      <td>0.527373</td>\n",
              "      <td>1.000000</td>\n",
              "      <td>9.743007e-11</td>\n",
              "    </tr>\n",
              "    <tr>\n",
              "      <th>2</th>\n",
              "      <td>Sebastian</td>\n",
              "      <td>-0.041667</td>\n",
              "      <td>0.597222</td>\n",
              "      <td>0.999998</td>\n",
              "      <td>2.104277e-06</td>\n",
              "    </tr>\n",
              "    <tr>\n",
              "      <th>3</th>\n",
              "      <td>Viola</td>\n",
              "      <td>0.217361</td>\n",
              "      <td>0.427778</td>\n",
              "      <td>1.000000</td>\n",
              "      <td>4.264776e-07</td>\n",
              "    </tr>\n",
              "    <tr>\n",
              "      <th>4</th>\n",
              "      <td>Prometheus</td>\n",
              "      <td>-0.009687</td>\n",
              "      <td>0.471984</td>\n",
              "      <td>1.000000</td>\n",
              "      <td>3.591651e-13</td>\n",
              "    </tr>\n",
              "    <tr>\n",
              "      <th>5</th>\n",
              "      <td>Io</td>\n",
              "      <td>-0.008879</td>\n",
              "      <td>0.491174</td>\n",
              "      <td>1.000000</td>\n",
              "      <td>1.543646e-13</td>\n",
              "    </tr>\n",
              "  </tbody>\n",
              "</table>\n",
              "</div>\n",
              "      <button class=\"colab-df-convert\" onclick=\"convertToInteractive('df-593a6707-b7d7-4e94-b850-c63d825a6695')\"\n",
              "              title=\"Convert this dataframe to an interactive table.\"\n",
              "              style=\"display:none;\">\n",
              "        \n",
              "  <svg xmlns=\"http://www.w3.org/2000/svg\" height=\"24px\"viewBox=\"0 0 24 24\"\n",
              "       width=\"24px\">\n",
              "    <path d=\"M0 0h24v24H0V0z\" fill=\"none\"/>\n",
              "    <path d=\"M18.56 5.44l.94 2.06.94-2.06 2.06-.94-2.06-.94-.94-2.06-.94 2.06-2.06.94zm-11 1L8.5 8.5l.94-2.06 2.06-.94-2.06-.94L8.5 2.5l-.94 2.06-2.06.94zm10 10l.94 2.06.94-2.06 2.06-.94-2.06-.94-.94-2.06-.94 2.06-2.06.94z\"/><path d=\"M17.41 7.96l-1.37-1.37c-.4-.4-.92-.59-1.43-.59-.52 0-1.04.2-1.43.59L10.3 9.45l-7.72 7.72c-.78.78-.78 2.05 0 2.83L4 21.41c.39.39.9.59 1.41.59.51 0 1.02-.2 1.41-.59l7.78-7.78 2.81-2.81c.8-.78.8-2.07 0-2.86zM5.41 20L4 18.59l7.72-7.72 1.47 1.35L5.41 20z\"/>\n",
              "  </svg>\n",
              "      </button>\n",
              "      \n",
              "  <style>\n",
              "    .colab-df-container {\n",
              "      display:flex;\n",
              "      flex-wrap:wrap;\n",
              "      gap: 12px;\n",
              "    }\n",
              "\n",
              "    .colab-df-convert {\n",
              "      background-color: #E8F0FE;\n",
              "      border: none;\n",
              "      border-radius: 50%;\n",
              "      cursor: pointer;\n",
              "      display: none;\n",
              "      fill: #1967D2;\n",
              "      height: 32px;\n",
              "      padding: 0 0 0 0;\n",
              "      width: 32px;\n",
              "    }\n",
              "\n",
              "    .colab-df-convert:hover {\n",
              "      background-color: #E2EBFA;\n",
              "      box-shadow: 0px 1px 2px rgba(60, 64, 67, 0.3), 0px 1px 3px 1px rgba(60, 64, 67, 0.15);\n",
              "      fill: #174EA6;\n",
              "    }\n",
              "\n",
              "    [theme=dark] .colab-df-convert {\n",
              "      background-color: #3B4455;\n",
              "      fill: #D2E3FC;\n",
              "    }\n",
              "\n",
              "    [theme=dark] .colab-df-convert:hover {\n",
              "      background-color: #434B5C;\n",
              "      box-shadow: 0px 1px 3px 1px rgba(0, 0, 0, 0.15);\n",
              "      filter: drop-shadow(0px 1px 2px rgba(0, 0, 0, 0.3));\n",
              "      fill: #FFFFFF;\n",
              "    }\n",
              "  </style>\n",
              "\n",
              "      <script>\n",
              "        const buttonEl =\n",
              "          document.querySelector('#df-593a6707-b7d7-4e94-b850-c63d825a6695 button.colab-df-convert');\n",
              "        buttonEl.style.display =\n",
              "          google.colab.kernel.accessAllowed ? 'block' : 'none';\n",
              "\n",
              "        async function convertToInteractive(key) {\n",
              "          const element = document.querySelector('#df-593a6707-b7d7-4e94-b850-c63d825a6695');\n",
              "          const dataTable =\n",
              "            await google.colab.kernel.invokeFunction('convertToInteractive',\n",
              "                                                     [key], {});\n",
              "          if (!dataTable) return;\n",
              "\n",
              "          const docLinkHtml = 'Like what you see? Visit the ' +\n",
              "            '<a target=\"_blank\" href=https://colab.research.google.com/notebooks/data_table.ipynb>data table notebook</a>'\n",
              "            + ' to learn more about interactive tables.';\n",
              "          element.innerHTML = '';\n",
              "          dataTable['output_type'] = 'display_data';\n",
              "          await google.colab.output.renderOutput(dataTable, element);\n",
              "          const docLink = document.createElement('div');\n",
              "          docLink.innerHTML = docLinkHtml;\n",
              "          element.appendChild(docLink);\n",
              "        }\n",
              "      </script>\n",
              "    </div>\n",
              "  </div>\n",
              "  "
            ],
            "text/plain": [
              "    character  polarity  subjectivity  positive_sentiment_score  \\\n",
              "0       Romeo  0.147491      0.538333                  1.000000   \n",
              "1      Juliet  0.235562      0.527373                  1.000000   \n",
              "2   Sebastian -0.041667      0.597222                  0.999998   \n",
              "3       Viola  0.217361      0.427778                  1.000000   \n",
              "4  Prometheus -0.009687      0.471984                  1.000000   \n",
              "5          Io -0.008879      0.491174                  1.000000   \n",
              "\n",
              "   negative_sentiment_score  \n",
              "0              5.485967e-08  \n",
              "1              9.743007e-11  \n",
              "2              2.104277e-06  \n",
              "3              4.264776e-07  \n",
              "4              3.591651e-13  \n",
              "5              1.543646e-13  "
            ]
          },
          "execution_count": 69,
          "metadata": {},
          "output_type": "execute_result"
        }
      ],
      "source": [
        "# code from https://pandas.pydata.org/docs/reference/api/pandas.DataFrame.from_dict.html\n",
        "# Since I am unfamiliar with pandas, I needed to see the documentation to generate a dataframe from the dictionaries\n",
        "# Here I created dictionaries for each of the characters as well as generate a table to provide a summary of the calculations done above\n",
        "import pandas as pd\n",
        "data = {'0': ['Romeo', romeo_polarity, romeo_subjectivity, romeo_p_pos, romeo_p_neg], \n",
        "        '1': ['Juliet', juliet_polarity, juliet_subjectivity, juliet_p_pos, juliet_p_neg],\n",
        "        '2': ['Sebastian', sebastian_polarity, sebastian_subjectivity, sebastian_p_pos, sebastian_p_neg],\n",
        "        '3': ['Viola', viola_polarity, viola_subjectivity, viola_p_pos, viola_p_neg],\n",
        "        '4': ['Prometheus', prometheus_polarity, prometheus_subjectivity, prometheus_p_pos, prometheus_p_neg],\n",
        "        '5': ['Io', io_polarity, io_subjectivity, io_p_pos, io_p_neg]}\n",
        "df = pd.DataFrame.from_dict(data, orient='index', columns=['character', 'polarity', 'subjectivity', 'positive_sentiment_score', 'negative_sentiment_score']) # this adds the titles to the different values in the values\n",
        "df"
      ]
    },
    {
      "cell_type": "markdown",
      "metadata": {
        "id": "yKX77zv3aF2s"
      },
      "source": [
        "As mentioned above, my lack of experience in python and NLP may be most visible especially with the positivity polarity rating for all 6 characters seem to be very similar. All of the scores within the generated dataframe for the positivity polarity when using the naive baynes analyzer round to 1.0 as the classifier classified each monologue as positive.\n",
        "\n",
        "The negative sentiment scores seem to be very percise as they use exponents that are very small in the grand scheme of things for the case of this project but it is interesting to note here."
      ]
    },
    {
      "cell_type": "code",
      "execution_count": null,
      "metadata": {
        "colab": {
          "base_uri": "https://localhost:8080/",
          "height": 345
        },
        "id": "5IT-sCrkafSO",
        "outputId": "0e9e5c78-203e-4a04-e3a0-a83f7bb08f21"
      },
      "outputs": [
        {
          "data": {
            "image/png": "[encoded data removed]",
            "text/plain": [
              "<Figure size 432x288 with 1 Axes>"
            ]
          },
          "metadata": {
            "needs_background": "light"
          },
          "output_type": "display_data"
        }
      ],
      "source": [
        "# Had to refer to https://matplotlib.org/stable/tutorials/index.html for help in understanding how to graph in python\n",
        "# https://matplotlib.org/stable/tutorials/introductory/pyplot.html#sphx-glr-tutorials-introductory-pyplot-py\n",
        "\n",
        "# Need to import matplotlib this to use the visualization features\n",
        "# Overall Sentiment Polarity Scores\n",
        "import matplotlib.pyplot as plt\n",
        "\n",
        "df.plot.bar(x= 'character', y= 'polarity', legend=False)\n",
        "\n",
        "title = plt.title(\"Polarity Scores of Monologues\")\n",
        "xlabel = plt.xlabel(\"Character\")\n",
        "ylabel = plt.ylabel(\"Polarity Score\")\n",
        "\n",
        "plt.show()\n",
        "\n"
      ]
    },
    {
      "cell_type": "markdown",
      "metadata": {
        "id": "BWJFnuktvySs"
      },
      "source": [
        "This graph shows the sentiment polarity scores of the different monologues, from the data frame and polarity graph above there seems to be a trend that  monologues for women seem to have a more positive polarity score, even when factoring comedys and tragedies. As well as different tragedies, all of the women leads (Juliet, Viola and Io) at a first pass through the basic sentiment analysis tend to be more positive than the male counter parts (Romeo, Sebastian and Prometheus).\n",
        "\n",
        "Another key insight we can gather here is that the greatyest difference in scores between monologues was between Sebastian and Viola, as Sebastian's monologue possesses the largest negative polarity score.\n",
        "\n",
        "Prometheus' monologue and Io's monologue seem to be roughly the same with their polarity scores both containing negative scores (sentiment polarity score for prometheus: -0.009687 , sentiment polarity score for Io -0.008879). So if we were looking solely at sentiment polarity the 2/3 results are significant differences between male and female monologues.\n",
        "\n",
        "The final take away from the sentiment polarity analysis is that the scores themselves are pretty low meanining the NLTK library corpus used to compare the monologues had found the monologues generally are neural, slightly positive at best."
      ]
    },
    {
      "cell_type": "code",
      "execution_count": null,
      "metadata": {
        "colab": {
          "base_uri": "https://localhost:8080/",
          "height": 295
        },
        "id": "NXV5M7HhjWpx",
        "outputId": "d6eb24c8-c138-4551-9979-2e37c0512864"
      },
      "outputs": [
        {
          "data": {
            "image/png": "[encoded data removed]",
            "text/plain": [
              "<Figure size 432x288 with 1 Axes>"
            ]
          },
          "metadata": {
            "needs_background": "light"
          },
          "output_type": "display_data"
        }
      ],
      "source": [
        "# Overall Negative sentiment polarity scores\n",
        "df.plot.scatter(x='character', y='negative_sentiment_score', legend=False)\n",
        "title = plt.title(\"Neg. Sentiment Polarity Scores of Monologues\")\n",
        "xlabel = plt.xlabel(\"Character\")\n",
        "ylabel = plt.ylabel(\"Negative Polarity Sentiment Score\")\n",
        "\n",
        "plt.show()"
      ]
    },
    {
      "attachments": {},
      "cell_type": "markdown",
      "metadata": {
        "id": "NLC60ELg04zp"
      },
      "source": [
        "This graph shows a more in-depth sentiment analysis of the monologues. The data provided for this graph was generated from another Sentiment analysis code, involving a different library corpra (movie_reviews). The Sentiment Analysis tool is called: \"NaiveBayesAnalyzer\", This specific choice of analyzer and new library was provided by Dr. Elshakankiri and Deitel Ch.12 [2]. The reason for providing a visual for the negative sentiment polarity score was because the positive sentiment polarity scores of the monologues did not show any meaningful information, the results closely resemble one another.\n",
        "\n",
        "When examining the graph there seems to be a larger negative sentiment polarity scores for the male characters (Romeo, Sebasian and Prometheus). This also repeats the point mentioned above when looking at the simple polarity scores above, the female characters (Juliet, Viola and Io) tend to have a less negative polarity sentiment score. However when looking at the numbers themselves the insight about negativity sentiment polarity scores is different.\n",
        "\n",
        "Although Romeo and Juliet seem to be near eachother but from the data frame the scientific notation is not represented here properly. Romeo's monologue has a negative sentiment polarity score of 5.485967e-08, compared to Juliet's monologue which has a negative sentiment score of 9.743007e-11. This new perspective changes the way we think about the simple polarity ratings as this added benefit of seeing the extensive analysis on the polarity score shows that not all text is simply just positive nor simply just negative, even the seemingly positive monologues contain parts of negativity as well. This also shows how intricate the NLTK tool is when analyzing text."
      ]
    },
    {
      "cell_type": "code",
      "execution_count": null,
      "metadata": {
        "colab": {
          "base_uri": "https://localhost:8080/",
          "height": 345
        },
        "id": "NwuV7AGVeEPc",
        "outputId": "a7475861-fba5-4353-b6ad-3bdd80401618"
      },
      "outputs": [
        {
          "data": {
            "image/png": "[encoded data removed]",
            "text/plain": [
              "<Figure size 432x288 with 1 Axes>"
            ]
          },
          "metadata": {
            "needs_background": "light"
          },
          "output_type": "display_data"
        }
      ],
      "source": [
        "# Generating subjectivity scores\n",
        "df.plot.bar(x= 'character', y= 'subjectivity', legend=False)\n",
        "\n",
        "title = plt.title(\"Subjectivity Scores of Monologues\")\n",
        "xlabel = plt.xlabel(\"Character\")\n",
        "ylabel = plt.ylabel(\"Subjectivity Score\")\n",
        "\n",
        "plt.show()"
      ]
    },
    {
      "cell_type": "markdown",
      "metadata": {
        "id": "VEYME2RS-_7T"
      },
      "source": [
        "This last graph I had decided to generate is the subjectivity score of each of the monologues. The subjectivity score focuses on how 'personal' the overall text is to the speaker[2]. As expected monologues tend to possess both objective and subjective qualities as when they are performed on stage sometimes they are used by the character to provide some insight to what the character is going through. This is why the monologues seem to be near the 0.4 and 0.5 on the graph. Most of the time these monologues are not interupted by other characters, this is just a tool use by the author to speak towards the audience or bring forth new parts of the play that add to the immersive experience to the performance. \n",
        "\n",
        "When examining the graph it seems that two of the male characters in William Shakespeare's plays (Romeo and Sebastian) have a slightly larger outcome in their subjectivity than the female characters (Juliet and Viola). Viola's monologue also visually represents the lowest score of subjectivity compared to the rest of the monologues.\n",
        "\n",
        "Looking at the third play, *Prometheus Bound* by Robert Lowell, we can see that Io's monologue has a slightly larger subjectivity score than Prometheus' monologue. "
      ]
    },
    {
      "cell_type": "markdown",
      "metadata": {
        "id": "EcivxqyInQnS"
      },
      "source": [
        "# Conclusion\n",
        "As you, the reader can probably tell the question of a monologue being used by someone of a particular gender identity is not a easy subject to tackle. I am well aware that just looking at three plays, two plays which are from the same playwright and comparing the monologues, that were made for male characters that were deemed for male actors to perform versus the monologues of the female characters that were deemed for female actors to perform. \n",
        "\n",
        "What I can say for certain is from the sentiment analysis done here in this project within the three plays:\n",
        "\n",
        "*   Romeo and Juliet by William Shakespeare\n",
        "*   Twelfth Night by William Shakespeare\n",
        "*   Prometheus Bound by Robert Lowell *Derived from Aeschylus* \n",
        "\n",
        "And comparing the monologues of the Male characters: Romeo, Sebastian and Prometheus to the Female characters: Juliet, Viola and Io. There is a difference in sentiment between the male characters and female characters.\n",
        "The male characters tend to possess more negative sentiment both from simple sentiment polarity analysis as well as applying the Naive Bayes Analyzer. The female characters on the other hand seem to have a more positive sentiment analysis both from the simple sentiment polarity analysis as well as looking at the results from the Naive Bayes Analyzer.\n",
        "\n",
        "The subjectivity scores do not provide much insight, to answering whether or not gender identity has an effect on a particular character, but can provide a different perspective when considering the affect the monologues have on the listener/reader. \n",
        "\n",
        "Moving forward I think my research could potentially isnpire many researchers about asking questions about the plays we enjoy. This research also can ask many other drama professionals/enthusiasts and data scientists to consider there can be a large wealth of untapped potential here. As both spaces involve improvising and being creative with what is at their dispoasl. This can also provide some actors insights to how certain words without much context (as computers are not people, context is hard for a computer to recognize) can be percieved as, which is fascinating to think about."
      ]
    },
    {
      "attachments": {},
      "cell_type": "markdown",
      "metadata": {
        "id": "1_IWh7isNDiG"
      },
      "source": [
        "# References\n",
        "\n",
        "1.  K. Steven and E. Loper, title=Natural language processing with Python: analyzing text with the natural language toolkit. Reilly Media, Inc, 2009.\n",
        "2. P. J. Deitel and H. M. Deitel, in Intro to python for computer science and data science: Learning to program with AI, Big Data and the cloud, Harlow: Pearson Education Limited, 2022. \n",
        "3. “Pandas.dataframe.from_dict#,” pandas.DataFrame.from_dict - pandas 1.5.2 documentation. [Online]. Available: https://pandas.pydata.org/docs/reference/api/pandas.DataFrame.from_dict.html. [Accessed: 15-Dec-2022]. \n",
        "4. “Pyplot tutorial#,” Pyplot tutorial - Matplotlib 3.6.2 documentation. [Online]. Available: https://matplotlib.org/stable/tutorials/introductory/pyplot.html#sphx-glr-tutorials-introductory-pyplot-py. [Accessed: 15-Dec-2022]. \n",
        "5. S. Rudnicki, The actor's Book of classical monologues. New York, NY: Penguin Books, 2009. \n",
        "6. “Tutorials#,” Tutorials - Matplotlib 3.6.2 documentation. [Online]. Available: https://matplotlib.org/stable/tutorials/index.html. [Accessed: 15-Dec-2022]. \n",
        "\n",
        "I did not really know how to generate a reference section using the colab format, so for the references, I cited them using IEEE format as well as using the number listed within the reference as a \"pointer\" to the reference within the markdown sections.\n",
        "\n"
      ]
    }
  ],
  "metadata": {
    "colab": {
      "provenance": []
    },
    "kernelspec": {
      "display_name": "Python 3",
      "name": "python3"
    },
    "language_info": {
      "name": "python"
    }
  },
  "nbformat": 4,
  "nbformat_minor": 0
}
